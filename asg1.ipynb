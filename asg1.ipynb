{
 "cells": [
  {
   "cell_type": "code",
   "execution_count": 619,
   "metadata": {},
   "outputs": [],
   "source": [
    "import numpy as np\n",
    "import pandas as pd\n",
    "import statistics\n",
    "import matplotlib.pyplot as plt\n",
    "from sklearn.model_selection import train_test_split\n",
    "from sklearn.naive_bayes import MultinomialNB\n",
    "from sklearn.linear_model import LogisticRegression\n",
    "from sklearn.ensemble import RandomForestClassifier\n",
    "from sklearn.svm import SVC\n",
    "from sklearn.neighbors import KNeighborsClassifier\n",
    "from sklearn.model_selection import StratifiedKFold\n",
    "from sklearn.ensemble import BaggingClassifier\n",
    "from sklearn.metrics import precision_score,recall_score,confusion_matrix\n",
    "from sklearn import metrics\n",
    "import itertools"
   ]
  },
  {
   "cell_type": "code",
   "execution_count": 620,
   "metadata": {},
   "outputs": [
    {
     "name": "stdout",
     "output_type": "stream",
     "text": [
      "(504, 20)\n"
     ]
    },
    {
     "data": {
      "text/html": [
       "<div>\n",
       "<style scoped>\n",
       "    .dataframe tbody tr th:only-of-type {\n",
       "        vertical-align: middle;\n",
       "    }\n",
       "\n",
       "    .dataframe tbody tr th {\n",
       "        vertical-align: top;\n",
       "    }\n",
       "\n",
       "    .dataframe thead th {\n",
       "        text-align: right;\n",
       "    }\n",
       "</style>\n",
       "<table border=\"1\" class=\"dataframe\">\n",
       "  <thead>\n",
       "    <tr style=\"text-align: right;\">\n",
       "      <th></th>\n",
       "      <th>User country</th>\n",
       "      <th>Nr. reviews</th>\n",
       "      <th>Nr. hotel reviews</th>\n",
       "      <th>Helpful votes</th>\n",
       "      <th>Score</th>\n",
       "      <th>Period of stay</th>\n",
       "      <th>Traveler type</th>\n",
       "      <th>Swimming Pool</th>\n",
       "      <th>Exercise Room</th>\n",
       "      <th>Basketball Court</th>\n",
       "      <th>Yoga Classes</th>\n",
       "      <th>Club</th>\n",
       "      <th>Free Wifi</th>\n",
       "      <th>Hotel name</th>\n",
       "      <th>Hotel stars</th>\n",
       "      <th>Nr. rooms</th>\n",
       "      <th>User continent</th>\n",
       "      <th>Member years</th>\n",
       "      <th>Review month</th>\n",
       "      <th>Review weekday</th>\n",
       "    </tr>\n",
       "  </thead>\n",
       "  <tbody>\n",
       "    <tr>\n",
       "      <th>0</th>\n",
       "      <td>USA</td>\n",
       "      <td>11</td>\n",
       "      <td>4</td>\n",
       "      <td>13</td>\n",
       "      <td>5</td>\n",
       "      <td>Dec-Feb</td>\n",
       "      <td>Friends</td>\n",
       "      <td>NO</td>\n",
       "      <td>YES</td>\n",
       "      <td>NO</td>\n",
       "      <td>NO</td>\n",
       "      <td>YES</td>\n",
       "      <td>YES</td>\n",
       "      <td>Circus Circus Hotel &amp; Casino Las Vegas</td>\n",
       "      <td>3</td>\n",
       "      <td>3773</td>\n",
       "      <td>North America</td>\n",
       "      <td>9</td>\n",
       "      <td>January</td>\n",
       "      <td>Thursday</td>\n",
       "    </tr>\n",
       "    <tr>\n",
       "      <th>1</th>\n",
       "      <td>USA</td>\n",
       "      <td>119</td>\n",
       "      <td>21</td>\n",
       "      <td>75</td>\n",
       "      <td>3</td>\n",
       "      <td>Dec-Feb</td>\n",
       "      <td>Business</td>\n",
       "      <td>NO</td>\n",
       "      <td>YES</td>\n",
       "      <td>NO</td>\n",
       "      <td>NO</td>\n",
       "      <td>YES</td>\n",
       "      <td>YES</td>\n",
       "      <td>Circus Circus Hotel &amp; Casino Las Vegas</td>\n",
       "      <td>3</td>\n",
       "      <td>3773</td>\n",
       "      <td>North America</td>\n",
       "      <td>3</td>\n",
       "      <td>January</td>\n",
       "      <td>Friday</td>\n",
       "    </tr>\n",
       "    <tr>\n",
       "      <th>2</th>\n",
       "      <td>USA</td>\n",
       "      <td>36</td>\n",
       "      <td>9</td>\n",
       "      <td>25</td>\n",
       "      <td>5</td>\n",
       "      <td>Mar-May</td>\n",
       "      <td>Families</td>\n",
       "      <td>NO</td>\n",
       "      <td>YES</td>\n",
       "      <td>NO</td>\n",
       "      <td>NO</td>\n",
       "      <td>YES</td>\n",
       "      <td>YES</td>\n",
       "      <td>Circus Circus Hotel &amp; Casino Las Vegas</td>\n",
       "      <td>3</td>\n",
       "      <td>3773</td>\n",
       "      <td>North America</td>\n",
       "      <td>2</td>\n",
       "      <td>February</td>\n",
       "      <td>Saturday</td>\n",
       "    </tr>\n",
       "    <tr>\n",
       "      <th>3</th>\n",
       "      <td>UK</td>\n",
       "      <td>14</td>\n",
       "      <td>7</td>\n",
       "      <td>14</td>\n",
       "      <td>4</td>\n",
       "      <td>Mar-May</td>\n",
       "      <td>Friends</td>\n",
       "      <td>NO</td>\n",
       "      <td>YES</td>\n",
       "      <td>NO</td>\n",
       "      <td>NO</td>\n",
       "      <td>YES</td>\n",
       "      <td>YES</td>\n",
       "      <td>Circus Circus Hotel &amp; Casino Las Vegas</td>\n",
       "      <td>3</td>\n",
       "      <td>3773</td>\n",
       "      <td>Europe</td>\n",
       "      <td>6</td>\n",
       "      <td>February</td>\n",
       "      <td>Friday</td>\n",
       "    </tr>\n",
       "    <tr>\n",
       "      <th>4</th>\n",
       "      <td>Canada</td>\n",
       "      <td>5</td>\n",
       "      <td>5</td>\n",
       "      <td>2</td>\n",
       "      <td>4</td>\n",
       "      <td>Mar-May</td>\n",
       "      <td>Solo</td>\n",
       "      <td>NO</td>\n",
       "      <td>YES</td>\n",
       "      <td>NO</td>\n",
       "      <td>NO</td>\n",
       "      <td>YES</td>\n",
       "      <td>YES</td>\n",
       "      <td>Circus Circus Hotel &amp; Casino Las Vegas</td>\n",
       "      <td>3</td>\n",
       "      <td>3773</td>\n",
       "      <td>North America</td>\n",
       "      <td>7</td>\n",
       "      <td>March</td>\n",
       "      <td>Tuesday</td>\n",
       "    </tr>\n",
       "  </tbody>\n",
       "</table>\n",
       "</div>"
      ],
      "text/plain": [
       "  User country  Nr. reviews  Nr. hotel reviews  Helpful votes  Score  \\\n",
       "0          USA           11                  4             13      5   \n",
       "1          USA          119                 21             75      3   \n",
       "2          USA           36                  9             25      5   \n",
       "3           UK           14                  7             14      4   \n",
       "4       Canada            5                  5              2      4   \n",
       "\n",
       "  Period of stay Traveler type Swimming Pool Exercise Room Basketball Court  \\\n",
       "0        Dec-Feb       Friends            NO           YES               NO   \n",
       "1        Dec-Feb      Business            NO           YES               NO   \n",
       "2        Mar-May      Families            NO           YES               NO   \n",
       "3        Mar-May       Friends            NO           YES               NO   \n",
       "4        Mar-May          Solo            NO           YES               NO   \n",
       "\n",
       "  Yoga Classes Club Free Wifi                              Hotel name  \\\n",
       "0           NO  YES       YES  Circus Circus Hotel & Casino Las Vegas   \n",
       "1           NO  YES       YES  Circus Circus Hotel & Casino Las Vegas   \n",
       "2           NO  YES       YES  Circus Circus Hotel & Casino Las Vegas   \n",
       "3           NO  YES       YES  Circus Circus Hotel & Casino Las Vegas   \n",
       "4           NO  YES       YES  Circus Circus Hotel & Casino Las Vegas   \n",
       "\n",
       "  Hotel stars  Nr. rooms User continent  Member years Review month  \\\n",
       "0           3       3773  North America             9      January   \n",
       "1           3       3773  North America             3      January   \n",
       "2           3       3773  North America             2     February   \n",
       "3           3       3773         Europe             6     February   \n",
       "4           3       3773  North America             7        March   \n",
       "\n",
       "  Review weekday  \n",
       "0       Thursday  \n",
       "1         Friday  \n",
       "2       Saturday  \n",
       "3         Friday  \n",
       "4        Tuesday  "
      ]
     },
     "execution_count": 620,
     "metadata": {},
     "output_type": "execute_result"
    }
   ],
   "source": [
    "df = pd.read_excel(\"/Users/anushka/Desktop/Data Science - Intern/trip.xlsx\")\n",
    "print(df.shape)\n",
    "df.head()"
   ]
  },
  {
   "cell_type": "code",
   "execution_count": 621,
   "metadata": {},
   "outputs": [
    {
     "name": "stdout",
     "output_type": "stream",
     "text": [
      "['Dec-Feb' 'Jun-Aug' 'Mar-May' 'Sep-Nov']\n"
     ]
    }
   ],
   "source": [
    "adf=df.copy()\n",
    "period=df['Period of stay'].unique()\n",
    "period.sort()\n",
    "print(period)"
   ]
  },
  {
   "cell_type": "code",
   "execution_count": 622,
   "metadata": {},
   "outputs": [],
   "source": [
    "for i in range(504):\n",
    "    if df.loc[i,'Period of stay']==period[0]:\n",
    "        adf.loc[i,'Period of stay']=1\n",
    "    elif df.loc[i,'Period of stay']==period[1]:\n",
    "        adf.loc[i,'Period of stay']=2\n",
    "    elif df.loc[i,'Period of stay']==period[2]:\n",
    "        adf.loc[i,'Period of stay']=3\n",
    "    else:\n",
    "        adf.loc[i,'Period of stay']=4"
   ]
  },
  {
   "cell_type": "code",
   "execution_count": 623,
   "metadata": {},
   "outputs": [
    {
     "name": "stdout",
     "output_type": "stream",
     "text": [
      "['Business' 'Couples' 'Families' 'Friends' 'Solo']\n"
     ]
    }
   ],
   "source": [
    "ttype=df['Traveler type'].unique()\n",
    "ttype.sort()\n",
    "print(ttype)"
   ]
  },
  {
   "cell_type": "code",
   "execution_count": 624,
   "metadata": {},
   "outputs": [
    {
     "name": "stdout",
     "output_type": "stream",
     "text": [
      "[1 2 3 4 5]\n"
     ]
    }
   ],
   "source": [
    "for i in range(504):\n",
    "    if df.loc[i,'Traveler type']==ttype[0]:\n",
    "        adf.loc[i,'Traveler type']=1\n",
    "    elif df.loc[i,'Traveler type']==ttype[1]:\n",
    "        adf.loc[i,'Traveler type']=2\n",
    "    elif df.loc[i,'Traveler type']==ttype[2]:\n",
    "        adf.loc[i,'Traveler type']=3\n",
    "    elif df.loc[i,'Traveler type']==ttype[3]:\n",
    "        adf.loc[i,'Traveler type']=4\n",
    "    else:\n",
    "        adf.loc[i,'Traveler type']=5\n",
    "        \n",
    "ttype=adf['Traveler type'].unique()\n",
    "ttype.sort()\n",
    "print(ttype)"
   ]
  },
  {
   "cell_type": "code",
   "execution_count": 625,
   "metadata": {},
   "outputs": [],
   "source": [
    "for i in range(504):\n",
    "    if df.loc[i,'Swimming Pool']=='YES':\n",
    "        adf.loc[i,'Swimming Pool']=1\n",
    "    else:\n",
    "        adf.loc[i,'Swimming Pool']=0\n",
    "\n",
    "for i in range(504):\n",
    "    if df.loc[i,'Exercise Room']=='YES':\n",
    "        adf.loc[i,'Exercise Room']=1\n",
    "    else:\n",
    "        adf.loc[i,'Exercise Room']=0\n",
    "        \n",
    "for i in range(504):\n",
    "    if df.loc[i,'Basketball Court']=='YES':\n",
    "        adf.loc[i,'Basketball Court']=1\n",
    "    else:\n",
    "        adf.loc[i,'Basketball Court']=0\n",
    "\n",
    "for i in range(504):\n",
    "    if df.loc[i,'Yoga Classes']=='YES':\n",
    "        adf.loc[i,'Yoga Classes']=1\n",
    "    else:\n",
    "        adf.loc[i,'Yoga Classes']=0\n",
    "        \n",
    "for i in range(504):\n",
    "    if df.loc[i,'Club']=='YES':\n",
    "        adf.loc[i,'Club']=1\n",
    "    else:\n",
    "        adf.loc[i,'Club']=0\n",
    "        \n",
    "for i in range(504):\n",
    "    if df.loc[i,'Free Wifi']=='YES':\n",
    "        adf.loc[i,'Free Wifi']=1\n",
    "    else:\n",
    "        adf.loc[i,'Free Wifi']=0"
   ]
  },
  {
   "cell_type": "code",
   "execution_count": 626,
   "metadata": {},
   "outputs": [
    {
     "data": {
      "text/plain": [
       "21"
      ]
     },
     "execution_count": 626,
     "metadata": {},
     "output_type": "execute_result"
    }
   ],
   "source": [
    "hotels = df['Hotel name'].unique()\n",
    "hotels.sort()\n",
    "len(hotels)"
   ]
  },
  {
   "cell_type": "code",
   "execution_count": 627,
   "metadata": {},
   "outputs": [
    {
     "name": "stdout",
     "output_type": "stream",
     "text": [
      "[ 1  2  3  4  5  6  7  8  9 10 11 12 13 14 15 17 18 19 20 21]\n"
     ]
    }
   ],
   "source": [
    "for i in range(504):\n",
    "    if df.loc[i,'Hotel name']==hotels[0]:\n",
    "        adf.loc[i,'Hotel name']=1\n",
    "    elif df.loc[i,'Hotel name']==hotels[1]:\n",
    "        adf.loc[i,'Hotel name']=2\n",
    "    elif df.loc[i,'Hotel name']==hotels[2]:\n",
    "        adf.loc[i,'Hotel name']=3\n",
    "    elif df.loc[i,'Hotel name']==hotels[3]:\n",
    "        adf.loc[i,'Hotel name']=4\n",
    "    elif df.loc[i,'Hotel name']==hotels[4]:\n",
    "        adf.loc[i,'Hotel name']=5\n",
    "    elif df.loc[i,'Hotel name']==hotels[5]:\n",
    "        adf.loc[i,'Hotel name']=6\n",
    "    elif df.loc[i,'Hotel name']==hotels[6]:\n",
    "        adf.loc[i,'Hotel name']=7\n",
    "    elif df.loc[i,'Hotel name']==hotels[7]:\n",
    "        adf.loc[i,'Hotel name']=8\n",
    "    elif df.loc[i,'Hotel name']==hotels[8]:\n",
    "        adf.loc[i,'Hotel name']=9\n",
    "    elif df.loc[i,'Hotel name']==hotels[9]:\n",
    "        adf.loc[i,'Hotel name']=10\n",
    "    elif df.loc[i,'Hotel name']==hotels[10]:\n",
    "        adf.loc[i,'Hotel name']=11\n",
    "    elif df.loc[i,'Hotel name']==hotels[11]:\n",
    "        adf.loc[i,'Hotel name']=12\n",
    "    elif df.loc[i,'Hotel name']==hotels[12]:\n",
    "        adf.loc[i,'Hotel name']=13\n",
    "    elif df.loc[i,'Hotel name']==hotels[13]:\n",
    "        adf.loc[i,'Hotel name']=14\n",
    "    elif df.loc[i,'Hotel name']==hotels[14]:\n",
    "        adf.loc[i,'Hotel name']=15\n",
    "    elif df.loc[i,'Hotel name']==hotels[16]:\n",
    "        adf.loc[i,'Hotel name']=17\n",
    "    elif df.loc[i,'Hotel name']==hotels[17]:\n",
    "        adf.loc[i,'Hotel name']=18\n",
    "    elif df.loc[i,'Hotel name']==hotels[18]:\n",
    "        adf.loc[i,'Hotel name']=19\n",
    "    elif df.loc[i,'Hotel name']==hotels[19]:\n",
    "        adf.loc[i,'Hotel name']=20\n",
    "    else:\n",
    "        adf.loc[i,'Hotel name']=21\n",
    "        \n",
    "ttype=adf['Hotel name'].unique()\n",
    "ttype.sort()\n",
    "print(ttype)"
   ]
  },
  {
   "cell_type": "code",
   "execution_count": 628,
   "metadata": {},
   "outputs": [],
   "source": [
    "df['Hotel stars'].unique()\n",
    "for i in range(504):\n",
    "    if df.loc[i,'Hotel stars']=='3,5':\n",
    "        adf.loc[i,'Hotel stars']=3\n",
    "    elif df.loc[i,'Hotel stars']=='4,5':\n",
    "        adf.loc[i,'Hotel stars']=4"
   ]
  },
  {
   "cell_type": "code",
   "execution_count": 629,
   "metadata": {},
   "outputs": [
    {
     "name": "stdout",
     "output_type": "stream",
     "text": [
      "['Africa' 'Asia' 'Europe' 'North America' 'Oceania' 'South America']\n"
     ]
    }
   ],
   "source": [
    "continents=df['User continent'].unique()\n",
    "continents.sort()\n",
    "print(continents)"
   ]
  },
  {
   "cell_type": "code",
   "execution_count": 630,
   "metadata": {},
   "outputs": [
    {
     "name": "stdout",
     "output_type": "stream",
     "text": [
      "[1 2 3 4 5 6]\n"
     ]
    }
   ],
   "source": [
    "for i in range(504):\n",
    "    if df.loc[i,'User continent']==continents[0]:\n",
    "        adf.loc[i,'User continent']=1\n",
    "    elif df.loc[i,'User continent']==continents[1]:\n",
    "        adf.loc[i,'User continent']=2\n",
    "    elif df.loc[i,'User continent']==continents[2]:\n",
    "        adf.loc[i,'User continent']=3\n",
    "    elif df.loc[i,'User continent']==continents[3]:\n",
    "        adf.loc[i,'User continent']=4\n",
    "    elif df.loc[i,'User continent']==continents[4]:\n",
    "        adf.loc[i,'User continent']=5\n",
    "    else:\n",
    "        adf.loc[i,'User continent']=6\n",
    "        \n",
    "continents=adf['User continent'].unique()\n",
    "continents.sort()\n",
    "print(continents)"
   ]
  },
  {
   "cell_type": "code",
   "execution_count": 631,
   "metadata": {},
   "outputs": [
    {
     "name": "stdout",
     "output_type": "stream",
     "text": [
      "[ 1  2  3  4  5  6  7  8  9 10 11 12]\n",
      "[1 2 3 4 5 6 7]\n"
     ]
    }
   ],
   "source": [
    "for i in range(504):\n",
    "    if df.loc[i,'Review month']=='January':\n",
    "        adf.loc[i,'Review month']=1\n",
    "    elif df.loc[i,'Review month']=='February':\n",
    "        adf.loc[i,'Review month']=2\n",
    "    elif df.loc[i,'Review month']=='March':\n",
    "        adf.loc[i,'Review month']=3\n",
    "    elif df.loc[i,'Review month']=='April':\n",
    "        adf.loc[i,'Review month']=4\n",
    "    elif df.loc[i,'Review month']=='May':\n",
    "        adf.loc[i,'Review month']=5\n",
    "    elif df.loc[i,'Review month']=='June':\n",
    "        adf.loc[i,'Review month']=6\n",
    "    elif df.loc[i,'Review month']=='July':\n",
    "        adf.loc[i,'Review month']=7\n",
    "    elif df.loc[i,'Review month']=='August':\n",
    "        adf.loc[i,'Review month']=8\n",
    "    elif df.loc[i,'Review month']=='September':\n",
    "        adf.loc[i,'Review month']=9\n",
    "    elif df.loc[i,'Review month']=='October':\n",
    "        adf.loc[i,'Review month']=10\n",
    "    elif df.loc[i,'Review month']=='November':\n",
    "        adf.loc[i,'Review month']=11\n",
    "    else:\n",
    "        adf.loc[i,'Review month']=12\n",
    "        \n",
    "for i in range(504):\n",
    "    if df.loc[i,'Review weekday']=='Monday':\n",
    "        adf.loc[i,'Review weekday']=1\n",
    "    elif df.loc[i,'Review weekday']=='Tuesday':\n",
    "        adf.loc[i,'Review weekday']=2\n",
    "    elif df.loc[i,'Review weekday']=='Wednesday':\n",
    "        adf.loc[i,'Review weekday']=3\n",
    "    elif df.loc[i,'Review weekday']=='Thursday':\n",
    "        adf.loc[i,'Review weekday']=4\n",
    "    elif df.loc[i,'Review weekday']=='Friday':\n",
    "        adf.loc[i,'Review weekday']=5\n",
    "    elif df.loc[i,'Review weekday']=='Saturday':\n",
    "        adf.loc[i,'Review weekday']=6\n",
    "    else:\n",
    "        adf.loc[i,'Review weekday']=7\n",
    "\n",
    "continents=adf['Review month'].unique()\n",
    "continents.sort()\n",
    "print(continents)\n",
    "\n",
    "continents=adf['Review weekday'].unique()\n",
    "continents.sort()\n",
    "print(continents)"
   ]
  },
  {
   "cell_type": "code",
   "execution_count": 632,
   "metadata": {},
   "outputs": [
    {
     "data": {
      "text/html": [
       "<div>\n",
       "<style scoped>\n",
       "    .dataframe tbody tr th:only-of-type {\n",
       "        vertical-align: middle;\n",
       "    }\n",
       "\n",
       "    .dataframe tbody tr th {\n",
       "        vertical-align: top;\n",
       "    }\n",
       "\n",
       "    .dataframe thead th {\n",
       "        text-align: right;\n",
       "    }\n",
       "</style>\n",
       "<table border=\"1\" class=\"dataframe\">\n",
       "  <thead>\n",
       "    <tr style=\"text-align: right;\">\n",
       "      <th></th>\n",
       "      <th>User country</th>\n",
       "      <th>Nr. reviews</th>\n",
       "      <th>Nr. hotel reviews</th>\n",
       "      <th>Helpful votes</th>\n",
       "      <th>Score</th>\n",
       "      <th>Period of stay</th>\n",
       "      <th>Traveler type</th>\n",
       "      <th>Swimming Pool</th>\n",
       "      <th>Exercise Room</th>\n",
       "      <th>Basketball Court</th>\n",
       "      <th>Yoga Classes</th>\n",
       "      <th>Club</th>\n",
       "      <th>Free Wifi</th>\n",
       "      <th>Hotel name</th>\n",
       "      <th>Hotel stars</th>\n",
       "      <th>Nr. rooms</th>\n",
       "      <th>User continent</th>\n",
       "      <th>Member years</th>\n",
       "      <th>Review month</th>\n",
       "      <th>Review weekday</th>\n",
       "    </tr>\n",
       "  </thead>\n",
       "  <tbody>\n",
       "    <tr>\n",
       "      <th>0</th>\n",
       "      <td>USA</td>\n",
       "      <td>11</td>\n",
       "      <td>4</td>\n",
       "      <td>13</td>\n",
       "      <td>5</td>\n",
       "      <td>1</td>\n",
       "      <td>4</td>\n",
       "      <td>0</td>\n",
       "      <td>1</td>\n",
       "      <td>0</td>\n",
       "      <td>0</td>\n",
       "      <td>1</td>\n",
       "      <td>1</td>\n",
       "      <td>3</td>\n",
       "      <td>3</td>\n",
       "      <td>3773</td>\n",
       "      <td>4</td>\n",
       "      <td>9</td>\n",
       "      <td>1</td>\n",
       "      <td>4</td>\n",
       "    </tr>\n",
       "    <tr>\n",
       "      <th>1</th>\n",
       "      <td>USA</td>\n",
       "      <td>119</td>\n",
       "      <td>21</td>\n",
       "      <td>75</td>\n",
       "      <td>3</td>\n",
       "      <td>1</td>\n",
       "      <td>1</td>\n",
       "      <td>0</td>\n",
       "      <td>1</td>\n",
       "      <td>0</td>\n",
       "      <td>0</td>\n",
       "      <td>1</td>\n",
       "      <td>1</td>\n",
       "      <td>3</td>\n",
       "      <td>3</td>\n",
       "      <td>3773</td>\n",
       "      <td>4</td>\n",
       "      <td>3</td>\n",
       "      <td>1</td>\n",
       "      <td>5</td>\n",
       "    </tr>\n",
       "    <tr>\n",
       "      <th>2</th>\n",
       "      <td>USA</td>\n",
       "      <td>36</td>\n",
       "      <td>9</td>\n",
       "      <td>25</td>\n",
       "      <td>5</td>\n",
       "      <td>3</td>\n",
       "      <td>3</td>\n",
       "      <td>0</td>\n",
       "      <td>1</td>\n",
       "      <td>0</td>\n",
       "      <td>0</td>\n",
       "      <td>1</td>\n",
       "      <td>1</td>\n",
       "      <td>3</td>\n",
       "      <td>3</td>\n",
       "      <td>3773</td>\n",
       "      <td>4</td>\n",
       "      <td>2</td>\n",
       "      <td>2</td>\n",
       "      <td>6</td>\n",
       "    </tr>\n",
       "    <tr>\n",
       "      <th>3</th>\n",
       "      <td>UK</td>\n",
       "      <td>14</td>\n",
       "      <td>7</td>\n",
       "      <td>14</td>\n",
       "      <td>4</td>\n",
       "      <td>3</td>\n",
       "      <td>4</td>\n",
       "      <td>0</td>\n",
       "      <td>1</td>\n",
       "      <td>0</td>\n",
       "      <td>0</td>\n",
       "      <td>1</td>\n",
       "      <td>1</td>\n",
       "      <td>3</td>\n",
       "      <td>3</td>\n",
       "      <td>3773</td>\n",
       "      <td>3</td>\n",
       "      <td>6</td>\n",
       "      <td>2</td>\n",
       "      <td>5</td>\n",
       "    </tr>\n",
       "    <tr>\n",
       "      <th>4</th>\n",
       "      <td>Canada</td>\n",
       "      <td>5</td>\n",
       "      <td>5</td>\n",
       "      <td>2</td>\n",
       "      <td>4</td>\n",
       "      <td>3</td>\n",
       "      <td>5</td>\n",
       "      <td>0</td>\n",
       "      <td>1</td>\n",
       "      <td>0</td>\n",
       "      <td>0</td>\n",
       "      <td>1</td>\n",
       "      <td>1</td>\n",
       "      <td>3</td>\n",
       "      <td>3</td>\n",
       "      <td>3773</td>\n",
       "      <td>4</td>\n",
       "      <td>7</td>\n",
       "      <td>3</td>\n",
       "      <td>2</td>\n",
       "    </tr>\n",
       "  </tbody>\n",
       "</table>\n",
       "</div>"
      ],
      "text/plain": [
       "  User country  Nr. reviews  Nr. hotel reviews  Helpful votes  Score  \\\n",
       "0          USA           11                  4             13      5   \n",
       "1          USA          119                 21             75      3   \n",
       "2          USA           36                  9             25      5   \n",
       "3           UK           14                  7             14      4   \n",
       "4       Canada            5                  5              2      4   \n",
       "\n",
       "   Period of stay  Traveler type  Swimming Pool  Exercise Room  \\\n",
       "0               1              4              0              1   \n",
       "1               1              1              0              1   \n",
       "2               3              3              0              1   \n",
       "3               3              4              0              1   \n",
       "4               3              5              0              1   \n",
       "\n",
       "   Basketball Court  Yoga Classes  Club  Free Wifi  Hotel name  Hotel stars  \\\n",
       "0                 0             0     1          1           3            3   \n",
       "1                 0             0     1          1           3            3   \n",
       "2                 0             0     1          1           3            3   \n",
       "3                 0             0     1          1           3            3   \n",
       "4                 0             0     1          1           3            3   \n",
       "\n",
       "   Nr. rooms  User continent  Member years  Review month  Review weekday  \n",
       "0       3773               4             9             1               4  \n",
       "1       3773               4             3             1               5  \n",
       "2       3773               4             2             2               6  \n",
       "3       3773               3             6             2               5  \n",
       "4       3773               4             7             3               2  "
      ]
     },
     "execution_count": 632,
     "metadata": {},
     "output_type": "execute_result"
    }
   ],
   "source": [
    "adf.head()"
   ]
  },
  {
   "cell_type": "code",
   "execution_count": 633,
   "metadata": {},
   "outputs": [
    {
     "data": {
      "text/plain": [
       "(504, 18)"
      ]
     },
     "execution_count": 633,
     "metadata": {},
     "output_type": "execute_result"
    }
   ],
   "source": [
    "X = adf[['Nr. reviews','Nr. hotel reviews','Helpful votes','Period of stay','Traveler type','Swimming Pool','Exercise Room','Basketball Court','Yoga Classes','Club','Free Wifi','Hotel name','Hotel stars','Nr. rooms','User continent','Member years','Review month','Review weekday']]\n",
    "y = adf['Score']\n",
    "X_train,X_test,y_train,y_test = train_test_split(X, y, test_size=0.33, random_state=0)\n",
    "X.shape"
   ]
  },
  {
   "cell_type": "code",
   "execution_count": 634,
   "metadata": {},
   "outputs": [],
   "source": [
    "def plot_confusion_matrix(cm, classes, title='Confusion matrix', cmap=plt.cm.Blues):\n",
    "    plt.figure()\n",
    "    print(cm)\n",
    "    plt.imshow(cm, interpolation='nearest', cmap=cmap)\n",
    "    plt.title(title)\n",
    "    plt.colorbar()\n",
    "    tick_marks = np.arange(len(classes))\n",
    "    plt.xticks(tick_marks, classes, rotation=45)\n",
    "    plt.yticks(tick_marks, classes)\n",
    "\n",
    "    fmt = 'd'\n",
    "    thresh = cm.max() / 2.\n",
    "    for i, j in itertools.product(range(cm.shape[0]), range(cm.shape[1])):\n",
    "        plt.text(j, i, format(cm[i, j], fmt),\n",
    "                 horizontalalignment=\"center\",\n",
    "                 color=\"white\" if cm[i, j] > thresh else \"black\")\n",
    "\n",
    "    plt.tight_layout()\n",
    "    plt.ylabel('True label')\n",
    "    plt.xlabel('Predicted label')"
   ]
  },
  {
   "cell_type": "code",
   "execution_count": 635,
   "metadata": {},
   "outputs": [],
   "source": [
    "def Logreg():\n",
    "    model = LogisticRegression(C=0.81)\n",
    "    model.fit(X_train,y_train)\n",
    "    sc = model.score(X_test,y_test)\n",
    "    print(\"Accuracy: \"+str(sc))\n",
    "    pred = model.predict(X_test)\n",
    "    cm = metrics.confusion_matrix(y_test, pred, labels=[1,2,3,4,5])\n",
    "    plot_confusion_matrix(cm, classes=[1,2,3,4,5])\n",
    "    return sc#,ps,rs"
   ]
  },
  {
   "cell_type": "code",
   "execution_count": 636,
   "metadata": {},
   "outputs": [
    {
     "name": "stdout",
     "output_type": "stream",
     "text": [
      "Accuracy: 0.46107784431137727\n",
      "[[ 0  0  0  1  2]\n",
      " [ 0  0  0  3  7]\n",
      " [ 0  0  1  5 12]\n",
      " [ 0  0  5 16 44]\n",
      " [ 1  0  1  9 60]]\n"
     ]
    },
    {
     "data": {
      "text/plain": [
       "0.46107784431137727"
      ]
     },
     "execution_count": 636,
     "metadata": {},
     "output_type": "execute_result"
    },
    {
     "data": {
      "image/png": "[encoded data removed]",
      "text/plain": [
       "<matplotlib.figure.Figure at 0x1a150a3cf8>"
      ]
     },
     "metadata": {},
     "output_type": "display_data"
    }
   ],
   "source": [
    "Logreg()"
   ]
  },
  {
   "cell_type": "code",
   "execution_count": 637,
   "metadata": {},
   "outputs": [],
   "source": [
    "def RForest():\n",
    "    model = RandomForestClassifier(max_depth=20, random_state=0, n_estimators=400)\n",
    "    model.fit(X_train,y_train)\n",
    "    sc = model.score(X_test,y_test)\n",
    "    print(\"Accuracy: \"+str(sc))    \n",
    "    pred = model.predict(X_test)\n",
    "    feature=[]\n",
    "    imp=[]\n",
    "    \n",
    "    for i, j in sorted(zip(X_train.columns, model.feature_importances_)):\n",
    "        feature.append(i)\n",
    "        imp.append(j)\n",
    " \n",
    "    cm = metrics.confusion_matrix(y_test, pred, labels=[1,2,3,4,5])\n",
    "    plot_confusion_matrix(cm, classes=[1,2,3,4,5])\n",
    "    \n",
    "    plt.figure()\n",
    "    index = np.arange(len(feature))\n",
    "    plt.bar(index,imp)\n",
    "    plt.xlabel('Features', fontsize=10)\n",
    "    plt.ylabel('Importance', fontsize=10)\n",
    "    plt.xticks(index, feature, fontsize=10, rotation=90)\n",
    "    plt.title('Feature importance')\n",
    "    plt.show()   \n",
    "    \n",
    "    return sc#,ps,rs"
   ]
  },
  {
   "cell_type": "code",
   "execution_count": 638,
   "metadata": {},
   "outputs": [
    {
     "name": "stdout",
     "output_type": "stream",
     "text": [
      "Accuracy: 0.47904191616766467\n",
      "[[ 0  1  0  1  1]\n",
      " [ 0  0  1  2  7]\n",
      " [ 0  0  2  6 10]\n",
      " [ 0  0 12 25 28]\n",
      " [ 0  1  0 17 53]]\n"
     ]
    },
    {
     "data": {
      "image/png": "[encoded data removed]",
      "text/plain": [
       "<matplotlib.figure.Figure at 0x108900828>"
      ]
     },
     "metadata": {},
     "output_type": "display_data"
    },
    {
     "data": {
      "image/png": "[encoded data removed]",
      "text/plain": [
       "<matplotlib.figure.Figure at 0x1a191c72b0>"
      ]
     },
     "metadata": {},
     "output_type": "display_data"
    },
    {
     "data": {
      "text/plain": [
       "0.47904191616766467"
      ]
     },
     "execution_count": 638,
     "metadata": {},
     "output_type": "execute_result"
    }
   ],
   "source": [
    "RForest()"
   ]
  },
  {
   "cell_type": "code",
   "execution_count": 639,
   "metadata": {},
   "outputs": [],
   "source": [
    "def VectMachine():\n",
    "    model = SVC(C=100, gamma=0.042)\n",
    "    model.fit(X_train, y_train)\n",
    "    sc = model.score(X_test,y_test)\n",
    "    print(\"Accuracy: \"+str(sc))\n",
    "    pred = model.predict(X_test)\n",
    "    cm = metrics.confusion_matrix(y_test, pred, labels=[1,2,3,4,5])\n",
    "    plot_confusion_matrix(cm, classes=[1,2,3,4,5])\n",
    "    return sc#,ps,rs"
   ]
  },
  {
   "cell_type": "code",
   "execution_count": 640,
   "metadata": {},
   "outputs": [
    {
     "name": "stdout",
     "output_type": "stream",
     "text": [
      "Accuracy: 0.4491017964071856\n",
      "[[ 0  0  0  0  3]\n",
      " [ 0  0  0  0 10]\n",
      " [ 0  0  0  0 18]\n",
      " [ 0  0  0  4 61]\n",
      " [ 0  0  0  0 71]]\n"
     ]
    },
    {
     "data": {
      "text/plain": [
       "0.4491017964071856"
      ]
     },
     "execution_count": 640,
     "metadata": {},
     "output_type": "execute_result"
    },
    {
     "data": {
      "image/png": "[encoded data removed]",
      "text/plain": [
       "<matplotlib.figure.Figure at 0x1a1942ad30>"
      ]
     },
     "metadata": {},
     "output_type": "display_data"
    }
   ],
   "source": [
    "VectMachine()"
   ]
  },
  {
   "cell_type": "code",
   "execution_count": 641,
   "metadata": {},
   "outputs": [],
   "source": [
    "def KNN():\n",
    "    n = KNeighborsClassifier(n_neighbors=15)\n",
    "    n.fit(X_train, y_train) \n",
    "    sc4 = n.score(X_test,y_test)\n",
    "    print(\"Accuracy: \"+str(sc4))\n",
    "    pred = n.predict(X_test)\n",
    "    cm = metrics.confusion_matrix(y_test, pred, labels=[1,2,3,4,5])\n",
    "    plot_confusion_matrix(cm, classes=[1,2,3,4,5])\n",
    "    return sc4"
   ]
  },
  {
   "cell_type": "code",
   "execution_count": 642,
   "metadata": {},
   "outputs": [
    {
     "name": "stdout",
     "output_type": "stream",
     "text": [
      "Accuracy: 0.4550898203592814\n",
      "[[ 0  0  1  0  2]\n",
      " [ 0  0  2  1  7]\n",
      " [ 0  0  4  4 10]\n",
      " [ 0  0  7 20 38]\n",
      " [ 0  0  3 16 52]]\n"
     ]
    },
    {
     "data": {
      "text/plain": [
       "0.4550898203592814"
      ]
     },
     "execution_count": 642,
     "metadata": {},
     "output_type": "execute_result"
    },
    {
     "data": {
      "image/png": "[encoded data removed]",
      "text/plain": [
       "<matplotlib.figure.Figure at 0x1a151680b8>"
      ]
     },
     "metadata": {},
     "output_type": "display_data"
    }
   ],
   "source": [
    "KNN()"
   ]
  },
  {
   "cell_type": "code",
   "execution_count": 643,
   "metadata": {},
   "outputs": [],
   "source": [
    "def MaxVoting():\n",
    "    model1 = KNeighborsClassifier(n_neighbors=15)\n",
    "    model2 = LogisticRegression(C=0.81)\n",
    "    model3 = SVC(C=100, gamma=0.042)\n",
    "    model4 = RandomForestClassifier(max_depth=20, random_state=0, n_estimators=400)\n",
    "    \n",
    "    model1.fit(X_train,y_train)\n",
    "    model2.fit(X_train,y_train)\n",
    "    model3.fit(X_train,y_train)\n",
    "    model4.fit(X_train,y_train)\n",
    "    \n",
    "    pred1=model1.predict(X_test)\n",
    "    pred2=model2.predict(X_test)\n",
    "    pred3=model3.predict(X_test)\n",
    "    pred4=model4.predict(X_test)\n",
    "    \n",
    "    y_test1 = np.array(y_test)\n",
    "    final_pred = np.array([])\n",
    "    \n",
    "    print(\"Taking Logistic Regression, SVC, and Random Forests\")\n",
    "    count=0\n",
    "    for i in range(0,len(X_test)):\n",
    "        final_pred = np.append(final_pred, statistics.mean([pred2[i],pred3[i],pred4[i]]))\n",
    "    for i in range(len(final_pred)):\n",
    "        if final_pred[i]==y_test1[i]:\n",
    "            count+=1\n",
    "    sc1=count/(i)\n",
    "    print(sc1)\n",
    "    cm = metrics.confusion_matrix(y_test, final_pred, labels=[1,2,3,4,5])\n",
    "    plot_confusion_matrix(cm, classes=[1,2,3,4,5])\n",
    "    "
   ]
  },
  {
   "cell_type": "code",
   "execution_count": 644,
   "metadata": {},
   "outputs": [
    {
     "name": "stdout",
     "output_type": "stream",
     "text": [
      "Taking Logistic Regression, SVC, and Random Forests\n",
      "0.5301204819277109\n",
      "[[ 0  0  1  1  1]\n",
      " [ 0  0  0  3  7]\n",
      " [ 0  0  1  8  9]\n",
      " [ 0  0  4 37 24]\n",
      " [ 0  0  1 20 50]]\n"
     ]
    },
    {
     "data": {
      "image/png": "[encoded data removed]",
      "text/plain": [
       "<matplotlib.figure.Figure at 0x1a196b66d8>"
      ]
     },
     "metadata": {},
     "output_type": "display_data"
    }
   ],
   "source": [
    "MaxVoting()"
   ]
  },
  {
   "cell_type": "code",
   "execution_count": 645,
   "metadata": {},
   "outputs": [
    {
     "data": {
      "text/plain": [
       "0.4311377245508982"
      ]
     },
     "execution_count": 645,
     "metadata": {},
     "output_type": "execute_result"
    }
   ],
   "source": [
    "model = BaggingClassifier(KNeighborsClassifier(n_neighbors=15),n_estimators=30,warm_start=True)\n",
    "model.fit(X_train, y_train)\n",
    "model.score(X_test,y_test)"
   ]
  },
  {
   "cell_type": "code",
   "execution_count": 646,
   "metadata": {},
   "outputs": [
    {
     "ename": "TypeError",
     "evalue": "AdaBoostClassifier with algorithm='SAMME.R' requires that the weak learner supports the calculation of class probabilities with a predict_proba method.\nPlease change the base estimator or set algorithm='SAMME' instead.",
     "output_type": "error",
     "traceback": [
      "\u001b[0;31m---------------------------------------------------------------------------\u001b[0m",
      "\u001b[0;31mTypeError\u001b[0m                                 Traceback (most recent call last)",
      "\u001b[0;32m<ipython-input-646-4b6d042a98a3>\u001b[0m in \u001b[0;36m<module>\u001b[0;34m()\u001b[0m\n\u001b[1;32m      1\u001b[0m \u001b[0;32mfrom\u001b[0m \u001b[0msklearn\u001b[0m\u001b[0;34m.\u001b[0m\u001b[0mensemble\u001b[0m \u001b[0;32mimport\u001b[0m \u001b[0mAdaBoostClassifier\u001b[0m\u001b[0;34m\u001b[0m\u001b[0m\n\u001b[1;32m      2\u001b[0m \u001b[0mmodel\u001b[0m \u001b[0;34m=\u001b[0m \u001b[0mAdaBoostClassifier\u001b[0m\u001b[0;34m(\u001b[0m\u001b[0mSVC\u001b[0m\u001b[0;34m(\u001b[0m\u001b[0mC\u001b[0m\u001b[0;34m=\u001b[0m\u001b[0;36m100\u001b[0m\u001b[0;34m,\u001b[0m \u001b[0mgamma\u001b[0m\u001b[0;34m=\u001b[0m\u001b[0;36m0.042\u001b[0m\u001b[0;34m)\u001b[0m\u001b[0;34m,\u001b[0m\u001b[0mrandom_state\u001b[0m\u001b[0;34m=\u001b[0m\u001b[0;36m0\u001b[0m\u001b[0;34m)\u001b[0m\u001b[0;34m\u001b[0m\u001b[0m\n\u001b[0;32m----> 3\u001b[0;31m \u001b[0mmodel\u001b[0m\u001b[0;34m.\u001b[0m\u001b[0mfit\u001b[0m\u001b[0;34m(\u001b[0m\u001b[0mX_train\u001b[0m\u001b[0;34m,\u001b[0m \u001b[0my_train\u001b[0m\u001b[0;34m)\u001b[0m\u001b[0;34m\u001b[0m\u001b[0m\n\u001b[0m\u001b[1;32m      4\u001b[0m \u001b[0mmodel\u001b[0m\u001b[0;34m.\u001b[0m\u001b[0mscore\u001b[0m\u001b[0;34m(\u001b[0m\u001b[0mX_test\u001b[0m\u001b[0;34m,\u001b[0m\u001b[0my_test\u001b[0m\u001b[0;34m)\u001b[0m\u001b[0;34m\u001b[0m\u001b[0m\n",
      "\u001b[0;32m/anaconda3/lib/python3.6/site-packages/sklearn/ensemble/weight_boosting.py\u001b[0m in \u001b[0;36mfit\u001b[0;34m(self, X, y, sample_weight)\u001b[0m\n\u001b[1;32m    411\u001b[0m \u001b[0;34m\u001b[0m\u001b[0m\n\u001b[1;32m    412\u001b[0m         \u001b[0;31m# Fit\u001b[0m\u001b[0;34m\u001b[0m\u001b[0;34m\u001b[0m\u001b[0m\n\u001b[0;32m--> 413\u001b[0;31m         \u001b[0;32mreturn\u001b[0m \u001b[0msuper\u001b[0m\u001b[0;34m(\u001b[0m\u001b[0mAdaBoostClassifier\u001b[0m\u001b[0;34m,\u001b[0m \u001b[0mself\u001b[0m\u001b[0;34m)\u001b[0m\u001b[0;34m.\u001b[0m\u001b[0mfit\u001b[0m\u001b[0;34m(\u001b[0m\u001b[0mX\u001b[0m\u001b[0;34m,\u001b[0m \u001b[0my\u001b[0m\u001b[0;34m,\u001b[0m \u001b[0msample_weight\u001b[0m\u001b[0;34m)\u001b[0m\u001b[0;34m\u001b[0m\u001b[0m\n\u001b[0m\u001b[1;32m    414\u001b[0m \u001b[0;34m\u001b[0m\u001b[0m\n\u001b[1;32m    415\u001b[0m     \u001b[0;32mdef\u001b[0m \u001b[0m_validate_estimator\u001b[0m\u001b[0;34m(\u001b[0m\u001b[0mself\u001b[0m\u001b[0;34m)\u001b[0m\u001b[0;34m:\u001b[0m\u001b[0;34m\u001b[0m\u001b[0m\n",
      "\u001b[0;32m/anaconda3/lib/python3.6/site-packages/sklearn/ensemble/weight_boosting.py\u001b[0m in \u001b[0;36mfit\u001b[0;34m(self, X, y, sample_weight)\u001b[0m\n\u001b[1;32m    128\u001b[0m \u001b[0;34m\u001b[0m\u001b[0m\n\u001b[1;32m    129\u001b[0m         \u001b[0;31m# Check parameters\u001b[0m\u001b[0;34m\u001b[0m\u001b[0;34m\u001b[0m\u001b[0m\n\u001b[0;32m--> 130\u001b[0;31m         \u001b[0mself\u001b[0m\u001b[0;34m.\u001b[0m\u001b[0m_validate_estimator\u001b[0m\u001b[0;34m(\u001b[0m\u001b[0;34m)\u001b[0m\u001b[0;34m\u001b[0m\u001b[0m\n\u001b[0m\u001b[1;32m    131\u001b[0m \u001b[0;34m\u001b[0m\u001b[0m\n\u001b[1;32m    132\u001b[0m         \u001b[0;31m# Clear any previous fit results\u001b[0m\u001b[0;34m\u001b[0m\u001b[0;34m\u001b[0m\u001b[0m\n",
      "\u001b[0;32m/anaconda3/lib/python3.6/site-packages/sklearn/ensemble/weight_boosting.py\u001b[0m in \u001b[0;36m_validate_estimator\u001b[0;34m(self)\u001b[0m\n\u001b[1;32m    422\u001b[0m             \u001b[0;32mif\u001b[0m \u001b[0;32mnot\u001b[0m \u001b[0mhasattr\u001b[0m\u001b[0;34m(\u001b[0m\u001b[0mself\u001b[0m\u001b[0;34m.\u001b[0m\u001b[0mbase_estimator_\u001b[0m\u001b[0;34m,\u001b[0m \u001b[0;34m'predict_proba'\u001b[0m\u001b[0;34m)\u001b[0m\u001b[0;34m:\u001b[0m\u001b[0;34m\u001b[0m\u001b[0m\n\u001b[1;32m    423\u001b[0m                 raise TypeError(\n\u001b[0;32m--> 424\u001b[0;31m                     \u001b[0;34m\"AdaBoostClassifier with algorithm='SAMME.R' requires \"\u001b[0m\u001b[0;34m\u001b[0m\u001b[0m\n\u001b[0m\u001b[1;32m    425\u001b[0m                     \u001b[0;34m\"that the weak learner supports the calculation of class \"\u001b[0m\u001b[0;34m\u001b[0m\u001b[0m\n\u001b[1;32m    426\u001b[0m                     \u001b[0;34m\"probabilities with a predict_proba method.\\n\"\u001b[0m\u001b[0;34m\u001b[0m\u001b[0m\n",
      "\u001b[0;31mTypeError\u001b[0m: AdaBoostClassifier with algorithm='SAMME.R' requires that the weak learner supports the calculation of class probabilities with a predict_proba method.\nPlease change the base estimator or set algorithm='SAMME' instead."
     ]
    }
   ],
   "source": [
    "from sklearn.ensemble import AdaBoostClassifier\n",
    "model = AdaBoostClassifier(SVC(C=100, gamma=0.042),random_state=0)\n",
    "model.fit(X_train, y_train)\n",
    "model.score(X_test,y_test)"
   ]
  },
  {
   "cell_type": "code",
   "execution_count": null,
   "metadata": {},
   "outputs": [],
   "source": []
  },
  {
   "cell_type": "code",
   "execution_count": null,
   "metadata": {},
   "outputs": [],
   "source": []
  }
 ],
 "metadata": {
  "kernelspec": {
   "display_name": "Python 3",
   "language": "python",
   "name": "python3"
  },
  "language_info": {
   "codemirror_mode": {
    "name": "ipython",
    "version": 3
   },
   "file_extension": ".py",
   "mimetype": "text/x-python",
   "name": "python",
   "nbconvert_exporter": "python",
   "pygments_lexer": "ipython3",
   "version": "3.6.4"
  }
 },
 "nbformat": 4,
 "nbformat_minor": 2
}
